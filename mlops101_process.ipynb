{
 "cells": [
  {
   "cell_type": "code",
   "execution_count": 2,
   "metadata": {},
   "outputs": [],
   "source": [
    "#!git init   Only executed one time"
   ]
  },
  {
   "cell_type": "code",
   "execution_count": 6,
   "metadata": {},
   "outputs": [
    {
     "name": "stdout",
     "output_type": "stream",
     "text": [
      "Initialized DVC repository.\n",
      "\n",
      "You can now commit the changes to git.\n",
      "\n",
      "\u001b[31m+---------------------------------------------------------------------+\n",
      "\u001b[0m\u001b[31m|\u001b[0m                                                                     \u001b[31m|\u001b[0m\n",
      "\u001b[31m|\u001b[0m        DVC has enabled anonymous aggregate usage analytics.         \u001b[31m|\u001b[0m\n",
      "\u001b[31m|\u001b[0m     Read the analytics documentation (and how to opt-out) here:     \u001b[31m|\u001b[0m\n",
      "\u001b[31m|\u001b[0m             <\u001b[36mhttps://dvc.org/doc/user-guide/analytics\u001b[39m>              \u001b[31m|\u001b[0m\n",
      "\u001b[31m|\u001b[0m                                                                     \u001b[31m|\u001b[0m\n",
      "\u001b[31m+---------------------------------------------------------------------+\n",
      "\u001b[0m\n",
      "\u001b[33mWhat's next?\u001b[39m\n",
      "\u001b[33m------------\u001b[39m\n",
      "- Check out the documentation: <\u001b[36mhttps://dvc.org/doc\u001b[39m>\n",
      "- Get help and share ideas: <\u001b[36mhttps://dvc.org/chat\u001b[39m>\n",
      "- Star us on GitHub: <\u001b[36mhttps://github.com/iterative/dvc\u001b[39m>\n",
      "\u001b[0m"
     ]
    }
   ],
   "source": [
    "!dvc init -f"
   ]
  },
  {
   "cell_type": "code",
   "execution_count": 9,
   "metadata": {},
   "outputs": [
    {
     "name": "stdout",
     "output_type": "stream",
     "text": [
      "\u001b[2K\u001b[32m⠋\u001b[0m Checking graph                                                   \u001b[32m⠋\u001b[0m Checking graph\n",
      "Adding...                                                                       \n",
      "!\u001b[A\n",
      "  0% Checking cache in '/workspace/mlops101-wine/.dvc/cache'| |0/? [00:00<?,    \u001b[A\n",
      "                                                                                \u001b[A\n",
      "!\u001b[A\n",
      "  0%|          |Transferring                          0/1 [00:00<?,     ?file/s]\u001b[A\n",
      "                                                                                \u001b[A\n",
      "!\u001b[A\n",
      "  0%|          |fbffe83c746612cc247b182e9f7278     0.00/? [00:00<?,        ?B/s]\u001b[A\n",
      "  0%|          |fbffe83c746612cc247b182e9f7278  0.00/258k [00:00<?,        ?B/s]\u001b[A\n",
      "100% Adding...|████████████████████████████████████████|1/1 [00:00,  4.99file/s]\u001b[A\n",
      "\n",
      "To track the changes with git, run:\n",
      "\n",
      "    git add wine_quality.csv.dvc\n",
      "\n",
      "To enable auto staging, run:\n",
      "\n",
      "\tdvc config core.autostage true\n",
      "\u001b[0m"
     ]
    }
   ],
   "source": [
    "!dvc add ./wine_quality.csv"
   ]
  },
  {
   "cell_type": "code",
   "execution_count": 10,
   "metadata": {},
   "outputs": [],
   "source": [
    "!git add wine_quality.csv.dvc"
   ]
  },
  {
   "cell_type": "code",
   "execution_count": 6,
   "metadata": {},
   "outputs": [],
   "source": [
    "!git add ."
   ]
  },
  {
   "cell_type": "code",
   "execution_count": 11,
   "metadata": {},
   "outputs": [
    {
     "name": "stdout",
     "output_type": "stream",
     "text": [
      "[master 65c1d5b] dvc init\n",
      " 1 file changed, 2 insertions(+), 2 deletions(-)\n"
     ]
    }
   ],
   "source": [
    "!git commit -m \"dvc init\""
   ]
  },
  {
   "cell_type": "code",
   "execution_count": 12,
   "metadata": {},
   "outputs": [],
   "source": [
    "!python src/get_data.py"
   ]
  },
  {
   "cell_type": "code",
   "execution_count": 13,
   "metadata": {},
   "outputs": [
    {
     "name": "stdout",
     "output_type": "stream",
     "text": [
      "[master ffa9796] added get_data.py\n",
      " 7 files changed, 5 insertions(+), 514 deletions(-)\n",
      " delete mode 100644 .dvc/plots/confusion.json\n",
      " delete mode 100644 .dvc/plots/confusion_normalized.json\n",
      " delete mode 100644 .dvc/plots/linear.json\n",
      " delete mode 100644 .dvc/plots/scatter.json\n",
      " delete mode 100644 .dvc/plots/simple.json\n",
      " delete mode 100644 .dvc/plots/smooth.json\n"
     ]
    }
   ],
   "source": [
    "!git add . && git commit -m \"added get_data.py\""
   ]
  },
  {
   "cell_type": "code",
   "execution_count": 14,
   "metadata": {},
   "outputs": [],
   "source": [
    "!python src/load_data.py "
   ]
  },
  {
   "cell_type": "code",
   "execution_count": 15,
   "metadata": {},
   "outputs": [
    {
     "name": "stdout",
     "output_type": "stream",
     "text": [
      "[master 191eaea] added load_data.py\n",
      " 1 file changed, 0 insertions(+), 0 deletions(-)\n",
      " create mode 100644 src/__pycache__/get_data.cpython-310.pyc\n"
     ]
    }
   ],
   "source": [
    "!git add . && git commit -m \"added load_data.py\""
   ]
  },
  {
   "cell_type": "code",
   "execution_count": 17,
   "metadata": {},
   "outputs": [
    {
     "name": "stdout",
     "output_type": "stream",
     "text": [
      "Running stage 'load_data':                                            core\u001b[39m>\n",
      "> python src/load_data.py --config_path=params.yaml\n",
      "Modifying stage 'load_data' in 'dvc.yaml'                                       \n",
      "Updating lock file 'dvc.lock'\n",
      "\n",
      "To track the changes with git, run:\n",
      "\n",
      "    git add dvc.lock dvc.yaml\n",
      "\n",
      "To enable auto staging, run:\n",
      "\n",
      "\tdvc config core.autostage true\n",
      "\u001b[0m"
     ]
    }
   ],
   "source": [
    "!dvc run --force -n load_data \\\n",
    "    -d src/load_data.py \\\n",
    "    -d src/get_data.py \\\n",
    "    -d wine_quality.csv \\\n",
    "    -o data/raw/winequality.csv \\\n",
    "    python src/load_data.py --config_path=params.yaml "
   ]
  },
  {
   "cell_type": "code",
   "execution_count": 18,
   "metadata": {},
   "outputs": [],
   "source": [
    "!git add dvc.yaml dvc.lock data/raw/.gitignore"
   ]
  },
  {
   "cell_type": "code",
   "execution_count": 19,
   "metadata": {},
   "outputs": [
    {
     "name": "stdout",
     "output_type": "stream",
     "text": [
      "README.md\t dvc.lock   models\t requirements.txt  wine_quality.csv\n",
      "artifacts\t dvc.yaml   notebooks\t setup.ipynb\t   wine_quality.csv.dvc\n",
      "cookiecutter.py  mlflow.db  params.yaml  src\n",
      "data\t\t mlruns     reports\t train.py\n",
      "stages:\n",
      "  load_data:\n",
      "    cmd: python src/load_data.py --config_path=params.yaml\n",
      "    deps:\n",
      "    - src/get_data.py\n",
      "    - src/load_data.py\n",
      "    - wine_quality.csv\n",
      "    outs:\n",
      "    - data/raw/winequality.csv\n",
      "  split_data:\n",
      "    cmd: python src/split_data.py --config_path=params.yaml\n",
      "    deps:\n",
      "    - data/raw/winequality.csv\n",
      "    - src/split_data.py\n",
      "    outs:\n",
      "    - data/processed/test_winequality.csv\n",
      "    - data/processed/train_winequality.csv\n",
      "  train_and_evaluate:\n",
      "    cmd: python src/train_and_evaluate.py --config_path=params.yaml\n",
      "    deps:\n",
      "    - data/processed/test_winequality.csv\n",
      "    - data/processed/train_winequality.csv\n",
      "    - src/train_and_evaluate.py\n",
      "    params:\n",
      "    - estimators.ElasticNet.params.alpha\n",
      "    - estimators.ElasticNet.params.l1_ratio\n",
      "    metrics:\n",
      "    - reports/scores.json\n",
      "    outs:\n",
      "    - models/model.joblib\n",
      "  tag_models:\n",
      "    cmd: python src/tag_models.py --config_path=params.yaml\n",
      "    deps:\n",
      "    - models/model.joblib\n",
      "    - src/tag_models.py\n",
      "schema: '2.0'\n",
      "stages:\n",
      "  load_data:\n",
      "    cmd: python src/load_data.py --config_path=params.yaml\n",
      "    deps:\n",
      "    - path: src/get_data.py\n",
      "      md5: 1fca8b3a958ad94b69ee007c9644424b\n",
      "      size: 652\n",
      "    - path: src/load_data.py\n",
      "      md5: cd1959e7471b8dec238de68728467038\n",
      "      size: 667\n",
      "    - path: wine_quality.csv\n",
      "      md5: 17fbffe83c746612cc247b182e9f7278\n",
      "      size: 264425\n",
      "    outs:\n",
      "    - path: data/raw/winequality.csv\n",
      "      md5: f8a17bfa190bdf3ce456d380d5bbf9dd\n",
      "      size: 287388\n",
      "  split_data:\n",
      "    cmd: python src/split_data.py --config_path=params.yaml\n",
      "    deps:\n",
      "    - path: data/raw/winequality.csv\n",
      "      md5: b81c95040ccc1f04820095a237ba3c61\n",
      "      size: 93485\n",
      "    - path: src/split_data.py\n",
      "      md5: b663c39ea0cfcaffd75841c6ab9435c7\n",
      "      size: 1147\n",
      "    outs:\n",
      "    - path: data/processed/test_winequality.csv\n",
      "      md5: 420389d6fcceeb7da1311c6b14af875f\n",
      "      size: 18836\n",
      "    - path: data/processed/train_winequality.csv\n",
      "      md5: eb194c439f11a763691ae2f66e305d74\n",
      "      size: 74795\n",
      "  train_and_evaluate:\n",
      "    cmd: python src/train_and_evaluate.py --config_path=params.yaml\n",
      "    deps:\n",
      "    - path: data/processed/test_winequality.csv\n",
      "      md5: 420389d6fcceeb7da1311c6b14af875f\n",
      "      size: 18836\n",
      "    - path: data/processed/train_winequality.csv\n",
      "      md5: eb194c439f11a763691ae2f66e305d74\n",
      "      size: 74795\n",
      "    - path: src/train_and_evaluate.py\n",
      "      md5: 739519171258c6b30b0af9e98d78b3ba\n",
      "      size: 4084\n",
      "    params:\n",
      "      params.yaml:\n",
      "        estimators.ElasticNet.params.alpha: 0.55\n",
      "        estimators.ElasticNet.params.l1_ratio: 0.55\n",
      "    outs:\n",
      "    - path: models/model.joblib\n",
      "      md5: f84bfd139bd2d32cc0f6914db83ea779\n",
      "      size: 1198\n",
      "    - path: reports/scores.json\n",
      "      md5: d7981522b45c9dcfa8ce64f86ef567b4\n",
      "      size: 96\n",
      "  tag_models:\n",
      "    cmd: python src/tag_models.py --config_path=params.yaml\n",
      "    deps:\n",
      "    - path: models/model.joblib\n",
      "      md5: f84bfd139bd2d32cc0f6914db83ea779\n",
      "      size: 1198\n",
      "    - path: src/tag_models.py\n",
      "      md5: c976aae42fb5a1954c7fb5bd27344002\n",
      "      size: 2460\n"
     ]
    }
   ],
   "source": [
    "!ls \n",
    "!cat dvc.yaml\n",
    "!cat dvc.lock"
   ]
  },
  {
   "cell_type": "code",
   "execution_count": 3,
   "metadata": {},
   "outputs": [],
   "source": [
    "import pandas as pd"
   ]
  },
  {
   "cell_type": "code",
   "execution_count": 6,
   "metadata": {},
   "outputs": [
    {
     "data": {
      "text/html": [
       "<div>\n",
       "<style scoped>\n",
       "    .dataframe tbody tr th:only-of-type {\n",
       "        vertical-align: middle;\n",
       "    }\n",
       "\n",
       "    .dataframe tbody tr th {\n",
       "        vertical-align: top;\n",
       "    }\n",
       "\n",
       "    .dataframe thead th {\n",
       "        text-align: right;\n",
       "    }\n",
       "</style>\n",
       "<table border=\"1\" class=\"dataframe\">\n",
       "  <thead>\n",
       "    <tr style=\"text-align: right;\">\n",
       "      <th></th>\n",
       "      <th>count</th>\n",
       "      <th>mean</th>\n",
       "      <th>std</th>\n",
       "      <th>min</th>\n",
       "      <th>25%</th>\n",
       "      <th>50%</th>\n",
       "      <th>75%</th>\n",
       "      <th>max</th>\n",
       "    </tr>\n",
       "  </thead>\n",
       "  <tbody>\n",
       "    <tr>\n",
       "      <th>fixed_acidity</th>\n",
       "      <td>1599.0</td>\n",
       "      <td>8.319637</td>\n",
       "      <td>1.741096</td>\n",
       "      <td>4.60000</td>\n",
       "      <td>7.1000</td>\n",
       "      <td>7.90000</td>\n",
       "      <td>9.200000</td>\n",
       "      <td>15.90000</td>\n",
       "    </tr>\n",
       "    <tr>\n",
       "      <th>volatile_acidity</th>\n",
       "      <td>1599.0</td>\n",
       "      <td>0.527821</td>\n",
       "      <td>0.179060</td>\n",
       "      <td>0.12000</td>\n",
       "      <td>0.3900</td>\n",
       "      <td>0.52000</td>\n",
       "      <td>0.640000</td>\n",
       "      <td>1.58000</td>\n",
       "    </tr>\n",
       "    <tr>\n",
       "      <th>citric_acid</th>\n",
       "      <td>1599.0</td>\n",
       "      <td>0.270976</td>\n",
       "      <td>0.194801</td>\n",
       "      <td>0.00000</td>\n",
       "      <td>0.0900</td>\n",
       "      <td>0.26000</td>\n",
       "      <td>0.420000</td>\n",
       "      <td>1.00000</td>\n",
       "    </tr>\n",
       "    <tr>\n",
       "      <th>residual_sugar</th>\n",
       "      <td>1599.0</td>\n",
       "      <td>2.538806</td>\n",
       "      <td>1.409928</td>\n",
       "      <td>0.90000</td>\n",
       "      <td>1.9000</td>\n",
       "      <td>2.20000</td>\n",
       "      <td>2.600000</td>\n",
       "      <td>15.50000</td>\n",
       "    </tr>\n",
       "    <tr>\n",
       "      <th>chlorides</th>\n",
       "      <td>1599.0</td>\n",
       "      <td>0.087467</td>\n",
       "      <td>0.047065</td>\n",
       "      <td>0.01200</td>\n",
       "      <td>0.0700</td>\n",
       "      <td>0.07900</td>\n",
       "      <td>0.090000</td>\n",
       "      <td>0.61100</td>\n",
       "    </tr>\n",
       "    <tr>\n",
       "      <th>free_sulfur_dioxide</th>\n",
       "      <td>1599.0</td>\n",
       "      <td>15.874922</td>\n",
       "      <td>10.460157</td>\n",
       "      <td>1.00000</td>\n",
       "      <td>7.0000</td>\n",
       "      <td>14.00000</td>\n",
       "      <td>21.000000</td>\n",
       "      <td>72.00000</td>\n",
       "    </tr>\n",
       "    <tr>\n",
       "      <th>total_sulfur_dioxide</th>\n",
       "      <td>1599.0</td>\n",
       "      <td>46.467792</td>\n",
       "      <td>32.895324</td>\n",
       "      <td>6.00000</td>\n",
       "      <td>22.0000</td>\n",
       "      <td>38.00000</td>\n",
       "      <td>62.000000</td>\n",
       "      <td>289.00000</td>\n",
       "    </tr>\n",
       "    <tr>\n",
       "      <th>density</th>\n",
       "      <td>1599.0</td>\n",
       "      <td>0.996747</td>\n",
       "      <td>0.001887</td>\n",
       "      <td>0.99007</td>\n",
       "      <td>0.9956</td>\n",
       "      <td>0.99675</td>\n",
       "      <td>0.997835</td>\n",
       "      <td>1.00369</td>\n",
       "    </tr>\n",
       "    <tr>\n",
       "      <th>pH</th>\n",
       "      <td>1599.0</td>\n",
       "      <td>3.311113</td>\n",
       "      <td>0.154386</td>\n",
       "      <td>2.74000</td>\n",
       "      <td>3.2100</td>\n",
       "      <td>3.31000</td>\n",
       "      <td>3.400000</td>\n",
       "      <td>4.01000</td>\n",
       "    </tr>\n",
       "    <tr>\n",
       "      <th>sulphates</th>\n",
       "      <td>1599.0</td>\n",
       "      <td>0.658149</td>\n",
       "      <td>0.169507</td>\n",
       "      <td>0.33000</td>\n",
       "      <td>0.5500</td>\n",
       "      <td>0.62000</td>\n",
       "      <td>0.730000</td>\n",
       "      <td>2.00000</td>\n",
       "    </tr>\n",
       "    <tr>\n",
       "      <th>alcohol</th>\n",
       "      <td>1599.0</td>\n",
       "      <td>10.422983</td>\n",
       "      <td>1.065668</td>\n",
       "      <td>8.40000</td>\n",
       "      <td>9.5000</td>\n",
       "      <td>10.20000</td>\n",
       "      <td>11.100000</td>\n",
       "      <td>14.90000</td>\n",
       "    </tr>\n",
       "    <tr>\n",
       "      <th>quality</th>\n",
       "      <td>1599.0</td>\n",
       "      <td>5.636023</td>\n",
       "      <td>0.807569</td>\n",
       "      <td>3.00000</td>\n",
       "      <td>5.0000</td>\n",
       "      <td>6.00000</td>\n",
       "      <td>6.000000</td>\n",
       "      <td>8.00000</td>\n",
       "    </tr>\n",
       "  </tbody>\n",
       "</table>\n",
       "</div>"
      ],
      "text/plain": [
       "                       count       mean        std      min      25%  \\\n",
       "fixed_acidity         1599.0   8.319637   1.741096  4.60000   7.1000   \n",
       "volatile_acidity      1599.0   0.527821   0.179060  0.12000   0.3900   \n",
       "citric_acid           1599.0   0.270976   0.194801  0.00000   0.0900   \n",
       "residual_sugar        1599.0   2.538806   1.409928  0.90000   1.9000   \n",
       "chlorides             1599.0   0.087467   0.047065  0.01200   0.0700   \n",
       "free_sulfur_dioxide   1599.0  15.874922  10.460157  1.00000   7.0000   \n",
       "total_sulfur_dioxide  1599.0  46.467792  32.895324  6.00000  22.0000   \n",
       "density               1599.0   0.996747   0.001887  0.99007   0.9956   \n",
       "pH                    1599.0   3.311113   0.154386  2.74000   3.2100   \n",
       "sulphates             1599.0   0.658149   0.169507  0.33000   0.5500   \n",
       "alcohol               1599.0  10.422983   1.065668  8.40000   9.5000   \n",
       "quality               1599.0   5.636023   0.807569  3.00000   5.0000   \n",
       "\n",
       "                           50%        75%        max  \n",
       "fixed_acidity          7.90000   9.200000   15.90000  \n",
       "volatile_acidity       0.52000   0.640000    1.58000  \n",
       "citric_acid            0.26000   0.420000    1.00000  \n",
       "residual_sugar         2.20000   2.600000   15.50000  \n",
       "chlorides              0.07900   0.090000    0.61100  \n",
       "free_sulfur_dioxide   14.00000  21.000000   72.00000  \n",
       "total_sulfur_dioxide  38.00000  62.000000  289.00000  \n",
       "density                0.99675   0.997835    1.00369  \n",
       "pH                     3.31000   3.400000    4.01000  \n",
       "sulphates              0.62000   0.730000    2.00000  \n",
       "alcohol               10.20000  11.100000   14.90000  \n",
       "quality                6.00000   6.000000    8.00000  "
      ]
     },
     "execution_count": 6,
     "metadata": {},
     "output_type": "execute_result"
    }
   ],
   "source": [
    "raw_data = pd.read_csv('data/raw/winequality.csv')\n",
    "raw_data.describe().T"
   ]
  },
  {
   "cell_type": "code",
   "execution_count": 19,
   "metadata": {},
   "outputs": [
    {
     "name": "stdout",
     "output_type": "stream",
     "text": [
      "Running stage 'split_data':\n",
      "> python src/split_data.py --config_path=params.yaml\n",
      "hi\n",
      "      fixed_acidity  volatile_acidity  citric_acid  ...  sulphates  alcohol  quality\n",
      "803             7.7              0.56         0.08  ...       0.66      9.6        6\n",
      "124             7.8              0.50         0.17  ...       0.48      9.5        5\n",
      "350            10.7              0.67         0.22  ...       0.98      9.9        6\n",
      "682             8.5              0.46         0.31  ...       0.54      9.8        5\n",
      "1326            6.7              0.46         0.24  ...       0.60     10.6        6\n",
      "\n",
      "[5 rows x 12 columns]\n",
      "     fixed_acidity  volatile_acidity  citric_acid  ...  sulphates  alcohol  quality\n",
      "493            8.7             0.690         0.31  ...       0.74     11.6        6\n",
      "354            6.1             0.210         0.40  ...       0.59     11.9        6\n",
      "342           10.9             0.390         0.47  ...       0.75      9.8        6\n",
      "834            8.8             0.685         0.26  ...       0.47      9.4        5\n",
      "705            8.4             1.035         0.15  ...       0.49      9.9        5\n",
      "\n",
      "[5 rows x 12 columns]\n",
      "Adding stage 'split_data' in 'dvc.yaml'\n",
      "Updating lock file 'dvc.lock'\n",
      "\n",
      "To track the changes with git, run:\n",
      "\n",
      "\tgit add dvc.yaml dvc.lock data/processed/.gitignore\n",
      "\u001b[0m"
     ]
    }
   ],
   "source": [
    "!dvc run -n split_data \\\n",
    "    -d src/split_data.py \\\n",
    "    -d data/raw/winequality.csv \\\n",
    "    -o data/processed/train_winequality.csv \\\n",
    "    -o data/processed/test_winequality.csv \\\n",
    "    python src/split_data.py --config_path=params.yaml "
   ]
  },
  {
   "cell_type": "code",
   "execution_count": 20,
   "metadata": {},
   "outputs": [],
   "source": [
    "!git add dvc.yaml dvc.lock data/processed/.gitignore"
   ]
  },
  {
   "cell_type": "code",
   "execution_count": 22,
   "metadata": {},
   "outputs": [
    {
     "name": "stdout",
     "output_type": "stream",
     "text": [
      "'wine_quality.csv.dvc' didn't change, skipping\n",
      "Stage 'load_data' didn't change, skipping\n",
      "Running stage 'split_data':\n",
      "> python src/split_data.py --config_path=params.yaml\n",
      "Updating lock file 'dvc.lock'\n",
      "\n",
      "To track the changes with git, run:\n",
      "\n",
      "\tgit add dvc.lock\n",
      "Use `dvc push` to send your updates to remote storage.\n",
      "\u001b[0m"
     ]
    }
   ],
   "source": [
    "!dvc repro"
   ]
  },
  {
   "cell_type": "code",
   "execution_count": 13,
   "metadata": {},
   "outputs": [
    {
     "name": "stdout",
     "output_type": "stream",
     "text": [
      "Running stage 'train_and_evaluate':\n",
      "> python src/train_and_evaluate.py --config_path=params.yaml\n",
      "Elasticnet model (alpha=0.900000, l1_ratio=0.400000):\n",
      "  RMSE: 0.8031192316982254\n",
      "  MAE: 0.6551462834843995\n",
      "  R2: 0.013014969842177981\n",
      "Adding stage 'train_and_evaluate' in 'dvc.yaml'\n",
      "Updating lock file 'dvc.lock'\n",
      "\n",
      "To track the changes with git, run:\n",
      "\n",
      "\tgit add models/.gitignore dvc.lock dvc.yaml\n",
      "\u001b[0m"
     ]
    }
   ],
   "source": [
    "!dvc run -n train_and_evaluate \\\n",
    "    -d src/train_and_evaluate.py \\\n",
    "    -d data/processed/train_winequality.csv \\\n",
    "    -d data/processed/test_winequality.csv \\\n",
    "    -p estimators.ElasticNet.params.alpha \\\n",
    "    -p estimators.ElasticNet.params.l1_ratio \\\n",
    "    -o models/model.joblib \\\n",
    "    python src/train_and_evaluate.py --config_path=params.yaml "
   ]
  },
  {
   "cell_type": "code",
   "execution_count": null,
   "metadata": {},
   "outputs": [],
   "source": [
    "!mlflow server --backend-store-uri sqlite:///mlflow.db --default-artifact-root ./artifacts --host 127.0.0.1 -p 1234"
   ]
  },
  {
   "cell_type": "code",
   "execution_count": 1,
   "metadata": {},
   "outputs": [
    {
     "name": "stdout",
     "output_type": "stream",
     "text": [
      "'wine_quality.csv.dvc' didn't change, skipping\n",
      "Stage 'load_data' didn't change, skipping\n",
      "Stage 'split_data' didn't change, skipping\n",
      "Running stage 'train_and_evaluate':\n",
      "> python src/train_and_evaluate.py --config_path=params.yaml\n",
      "Updating lock file 'dvc.lock'\n",
      "\n",
      "To track the changes with git, run:\n",
      "\n",
      "\tgit add dvc.lock\n",
      "Use `dvc push` to send your updates to remote storage.\n",
      "\u001b[0m"
     ]
    }
   ],
   "source": [
    "!dvc repro"
   ]
  },
  {
   "cell_type": "code",
   "execution_count": 4,
   "metadata": {},
   "outputs": [
    {
     "name": "stdout",
     "output_type": "stream",
     "text": [
      "Path         Param                                  HEAD                                  workspace\n",
      "params.yaml  base.target_col                        -                                     quality\n",
      "params.yaml  base.target_state                      TARGET                                -\n",
      "params.yaml  estimators.ElasticNet.params.alpha     0.9                                   0.88\n",
      "params.yaml  estimators.ElasticNet.params.l1_ratio  0.4                                   0.89\n",
      "params.yaml  mlflow_config.artifacts_dir            -                                     artifacts\n",
      "params.yaml  mlflow_config.experiment_name          -                                     ElasticNet regression\n",
      "params.yaml  mlflow_config.registered_model         -                                     ElasticNetWineModel\n",
      "params.yaml  mlflow_config.remote_server_uri        -                                     http://0.0.0.0:1234\n",
      "params.yaml  mlflow_config.run_nane                 -                                     mlops\n",
      "params.yaml  model_dir                              saved_models                          models\n",
      "params.yaml  reports.params                         report/params.json                    reports/params.json\n",
      "params.yaml  reports.scores                         report/scores.json                    reports/scores.json\n",
      "params.yaml  split_data.test_data_csv               -                                     data/processed/test_winequality.csv\n",
      "params.yaml  split_data.test_path                   data/processed/test_winequality.csv   -\n",
      "params.yaml  split_data.train_data_csv              -                                     data/processed/train_winequality.csv\n",
      "params.yaml  split_data.train_path                  data/processed/train_winequality.csv  -\n",
      "\u001b[0m"
     ]
    }
   ],
   "source": [
    "!dvc params diff"
   ]
  },
  {
   "cell_type": "code",
   "execution_count": 2,
   "metadata": {},
   "outputs": [
    {
     "name": "stdout",
     "output_type": "stream",
     "text": [
      "[master 027e92a] added mlflow\n",
      " 71 files changed, 1053 insertions(+), 13 deletions(-)\n",
      " create mode 100644 artifacts/1/451a88acdcdc431b9b51f4bb665d8a9d/artifacts/model/MLmodel\n",
      " create mode 100644 artifacts/1/451a88acdcdc431b9b51f4bb665d8a9d/artifacts/model/conda.yaml\n",
      " create mode 100644 artifacts/1/451a88acdcdc431b9b51f4bb665d8a9d/artifacts/model/model.pkl\n",
      " create mode 100644 artifacts/1/451a88acdcdc431b9b51f4bb665d8a9d/artifacts/model/requirements.txt\n",
      " create mode 100644 artifacts/1/7f98918f43f74203a75ccd05ac79f8f6/artifacts/model/MLmodel\n",
      " create mode 100644 artifacts/1/7f98918f43f74203a75ccd05ac79f8f6/artifacts/model/conda.yaml\n",
      " create mode 100644 artifacts/1/7f98918f43f74203a75ccd05ac79f8f6/artifacts/model/model.pkl\n",
      " create mode 100644 artifacts/1/7f98918f43f74203a75ccd05ac79f8f6/artifacts/model/requirements.txt\n",
      " create mode 100644 data/processed/.gitignore\n",
      " create mode 100644 data/raw/.gitignore\n",
      " create mode 100644 dvc.lock\n",
      " create mode 100644 mlflow.db\n",
      " create mode 100644 mlruns/0/meta.yaml\n",
      " create mode 100644 mlruns/1/7eae83c65c3b4f1881700bec368016d4/artifacts/model/MLmodel\n",
      " create mode 100644 mlruns/1/7eae83c65c3b4f1881700bec368016d4/artifacts/model/conda.yaml\n",
      " create mode 100644 mlruns/1/7eae83c65c3b4f1881700bec368016d4/artifacts/model/model.pkl\n",
      " create mode 100644 mlruns/1/7eae83c65c3b4f1881700bec368016d4/artifacts/model/requirements.txt\n",
      " create mode 100644 mlruns/1/7eae83c65c3b4f1881700bec368016d4/meta.yaml\n",
      " create mode 100644 mlruns/1/7eae83c65c3b4f1881700bec368016d4/metrics/mae\n",
      " create mode 100644 mlruns/1/7eae83c65c3b4f1881700bec368016d4/metrics/r2\n",
      " create mode 100644 mlruns/1/7eae83c65c3b4f1881700bec368016d4/metrics/rmse\n",
      " create mode 100644 mlruns/1/7eae83c65c3b4f1881700bec368016d4/params/alpha\n",
      " create mode 100644 mlruns/1/7eae83c65c3b4f1881700bec368016d4/params/l1_ratio\n",
      " create mode 100644 mlruns/1/7eae83c65c3b4f1881700bec368016d4/tags/mlflow.log-model.history\n",
      " create mode 100644 mlruns/1/7eae83c65c3b4f1881700bec368016d4/tags/mlflow.runName\n",
      " create mode 100644 mlruns/1/7eae83c65c3b4f1881700bec368016d4/tags/mlflow.source.git.commit\n",
      " create mode 100644 mlruns/1/7eae83c65c3b4f1881700bec368016d4/tags/mlflow.source.name\n",
      " create mode 100644 mlruns/1/7eae83c65c3b4f1881700bec368016d4/tags/mlflow.source.type\n",
      " create mode 100644 mlruns/1/7eae83c65c3b4f1881700bec368016d4/tags/mlflow.user\n",
      " create mode 100644 mlruns/1/8e3d9994aced46a5a9c4e2a733af926f/artifacts/model/MLmodel\n",
      " create mode 100644 mlruns/1/8e3d9994aced46a5a9c4e2a733af926f/artifacts/model/conda.yaml\n",
      " create mode 100644 mlruns/1/8e3d9994aced46a5a9c4e2a733af926f/artifacts/model/model.pkl\n",
      " create mode 100644 mlruns/1/8e3d9994aced46a5a9c4e2a733af926f/artifacts/model/requirements.txt\n",
      " create mode 100644 mlruns/1/8e3d9994aced46a5a9c4e2a733af926f/meta.yaml\n",
      " create mode 100644 mlruns/1/8e3d9994aced46a5a9c4e2a733af926f/metrics/mae\n",
      " create mode 100644 mlruns/1/8e3d9994aced46a5a9c4e2a733af926f/metrics/r2\n",
      " create mode 100644 mlruns/1/8e3d9994aced46a5a9c4e2a733af926f/metrics/rmse\n",
      " create mode 100644 mlruns/1/8e3d9994aced46a5a9c4e2a733af926f/params/alpha\n",
      " create mode 100644 mlruns/1/8e3d9994aced46a5a9c4e2a733af926f/params/l1_ratio\n",
      " create mode 100644 mlruns/1/8e3d9994aced46a5a9c4e2a733af926f/tags/mlflow.log-model.history\n",
      " create mode 100644 mlruns/1/8e3d9994aced46a5a9c4e2a733af926f/tags/mlflow.runName\n",
      " create mode 100644 mlruns/1/8e3d9994aced46a5a9c4e2a733af926f/tags/mlflow.source.git.commit\n",
      " create mode 100644 mlruns/1/8e3d9994aced46a5a9c4e2a733af926f/tags/mlflow.source.name\n",
      " create mode 100644 mlruns/1/8e3d9994aced46a5a9c4e2a733af926f/tags/mlflow.source.type\n",
      " create mode 100644 mlruns/1/8e3d9994aced46a5a9c4e2a733af926f/tags/mlflow.user\n",
      " create mode 100644 mlruns/1/97c24f0b2cbc45558ba230304097dc63/artifacts/model/MLmodel\n",
      " create mode 100644 mlruns/1/97c24f0b2cbc45558ba230304097dc63/artifacts/model/conda.yaml\n",
      " create mode 100644 mlruns/1/97c24f0b2cbc45558ba230304097dc63/artifacts/model/model.pkl\n",
      " create mode 100644 mlruns/1/97c24f0b2cbc45558ba230304097dc63/artifacts/model/requirements.txt\n",
      " create mode 100644 mlruns/1/97c24f0b2cbc45558ba230304097dc63/meta.yaml\n",
      " create mode 100644 mlruns/1/97c24f0b2cbc45558ba230304097dc63/metrics/mae\n",
      " create mode 100644 mlruns/1/97c24f0b2cbc45558ba230304097dc63/metrics/r2\n",
      " create mode 100644 mlruns/1/97c24f0b2cbc45558ba230304097dc63/metrics/rmse\n",
      " create mode 100644 mlruns/1/97c24f0b2cbc45558ba230304097dc63/params/alpha\n",
      " create mode 100644 mlruns/1/97c24f0b2cbc45558ba230304097dc63/params/l1_ratio\n",
      " create mode 100644 mlruns/1/97c24f0b2cbc45558ba230304097dc63/tags/mlflow.log-model.history\n",
      " create mode 100644 mlruns/1/97c24f0b2cbc45558ba230304097dc63/tags/mlflow.runName\n",
      " create mode 100644 mlruns/1/97c24f0b2cbc45558ba230304097dc63/tags/mlflow.source.git.commit\n",
      " create mode 100644 mlruns/1/97c24f0b2cbc45558ba230304097dc63/tags/mlflow.source.name\n",
      " create mode 100644 mlruns/1/97c24f0b2cbc45558ba230304097dc63/tags/mlflow.source.type\n",
      " create mode 100644 mlruns/1/97c24f0b2cbc45558ba230304097dc63/tags/mlflow.user\n",
      " create mode 100644 mlruns/1/meta.yaml\n",
      " create mode 100644 models/.gitignore\n",
      " create mode 100644 reports/params.json\n",
      " create mode 100644 reports/scores.json\n",
      " create mode 100644 src/split_data.py\n",
      " create mode 100644 src/train_and_evaluate.py\n"
     ]
    }
   ],
   "source": [
    "!git add . && git commit -m \"added mlflow\""
   ]
  },
  {
   "cell_type": "code",
   "execution_count": 6,
   "metadata": {},
   "outputs": [
    {
     "name": "stdout",
     "output_type": "stream",
     "text": [
      "Running stage 'tag_models':\n",
      "> python src/tag_models.py --config_path=params.yaml\n",
      "<Experiment: artifact_location='file:///workspace/mlops101-wine/mlruns/0', experiment_id='0', lifecycle_stage='active', name='Default', tags={}>\n",
      "Name: Default\n",
      "Experiment_id: 0\n",
      "Artifact Location: file:///workspace/mlops101-wine/mlruns/0\n",
      "Tags: {}\n",
      "Lifecycle_stage: active\n",
      "Adding stage 'tag_models' in 'dvc.yaml'\n",
      "Updating lock file 'dvc.lock'\n",
      "\n",
      "To track the changes with git, run:\n",
      "\n",
      "\tgit add dvc.lock dvc.yaml\n",
      "\u001b[0m"
     ]
    }
   ],
   "source": [
    "!dvc run -n tag_models \\\n",
    "    -d src/tag_models.py \\\n",
    "    python src/tag_models.py --config_path=params.yaml "
   ]
  }
 ],
 "metadata": {
  "interpreter": {
   "hash": "c3ecfbb2e518759e8150e3a4e02d9374d8d11351137435699613669ebcf0f527"
  },
  "kernelspec": {
   "display_name": "Python 3.10.4 64-bit",
   "language": "python",
   "name": "python3"
  },
  "language_info": {
   "codemirror_mode": {
    "name": "ipython",
    "version": 3
   },
   "file_extension": ".py",
   "mimetype": "text/x-python",
   "name": "python",
   "nbconvert_exporter": "python",
   "pygments_lexer": "ipython3",
   "version": "3.10.4"
  },
  "orig_nbformat": 4
 },
 "nbformat": 4,
 "nbformat_minor": 2
}
